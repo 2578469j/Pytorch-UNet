{
 "cells": [
  {
   "cell_type": "code",
   "execution_count": 1,
   "id": "68a8e9e3",
   "metadata": {},
   "outputs": [],
   "source": [
    "from pathlib import Path\n",
    "from utils.data_loading import GemsySplitLoader\n",
    "\n",
    "external_datasource = Path(\"C:\\\\Users\\\\Admin\\\\OneDrive - UAB Fivrec tech\\\\Documents - UAB Fivrec tech\\\\Inventory\\\\Įrenginių nuotraukos ir video\")\n",
    "internal_path = Path(\"C:\\\\Users\\\\Admin\\\\Desktop\\\\Gemsy\\\\Data\\\\processed\\\\.in\")"
   ]
  },
  {
   "cell_type": "code",
   "execution_count": 2,
   "id": "48e36a83",
   "metadata": {},
   "outputs": [],
   "source": [
    "loader_ext = GemsySplitLoader(external_datasource, external_datasource, [])"
   ]
  },
  {
   "cell_type": "code",
   "execution_count": 3,
   "id": "4a9ac56d",
   "metadata": {},
   "outputs": [],
   "source": [
    "front_convert_ids = loader_ext.get_ids_with_feature(\"front\")\n",
    "front_gt_convert_ids = loader_ext.get_ids_with_feature(\"front_gt\")"
   ]
  },
  {
   "cell_type": "code",
   "execution_count": null,
   "id": "4805d399",
   "metadata": {},
   "outputs": [
    {
     "name": "stdout",
     "output_type": "stream",
     "text": [
      "Proccessing id 10\n",
      "Proccessing id 11\n",
      "Proccessing id 12\n",
      "Proccessing id 13\n",
      "Proccessing id 14\n",
      "Proccessing id 16\n",
      "Proccessing id 3\n",
      "Proccessing id 6\n",
      "Proccessing id 8\n",
      "Proccessing id 9\n"
     ]
    }
   ],
   "source": [
    "import shutil\n",
    "# For training both gt and annotated gt masks\n",
    "\n",
    "in_path = external_datasource\n",
    "out_path = internal_path\n",
    "masks_path = out_path / \"masks\"\n",
    "features_path = out_path / \"features\"\n",
    "\n",
    "for id in front_gt_convert_ids:\n",
    "    print(f\"Proccessing id {id}\")\n",
    "    #g_train_data.load_model(id)\n",
    "    #g_train_data.load_pipeline_data()\n",
    "    #k = \"dbscantuned\"\n",
    "    #v = g_train_data.features[\"dbscantuned\"]\n",
    "    #g_train_data.gen_missing()\n",
    "    feature = \"front\"\n",
    "    feature_fname = loader_ext.features[feature]\n",
    "    feature_path = in_path / id / feature_fname\n",
    "    shutil.copyfile(feature_path, features_path / f\"e-{id}_gt.png\")\n",
    "    #print(feature_path, features_path / f\"e-{id}_{feature_fname}\")\n",
    "\n",
    "    mask_fname = loader_ext.features[\"front_gt\"]\n",
    "    mask_path = in_path / id / mask_fname\n",
    "    shutil.copyfile(mask_path, masks_path / f\"e-{id}.png\")\n",
    "    #print(mask_path, masks_path / f\"e-{id}.jpg\")"
   ]
  },
  {
   "cell_type": "code",
   "execution_count": 11,
   "id": "51e53827",
   "metadata": {},
   "outputs": [
    {
     "name": "stdout",
     "output_type": "stream",
     "text": [
      "Proccessing id 10\n",
      "Proccessing id 11\n",
      "Proccessing id 12\n",
      "Proccessing id 13\n",
      "Proccessing id 14\n",
      "Proccessing id 15\n",
      "Proccessing id 16\n",
      "Proccessing id 17\n",
      "Proccessing id 18\n",
      "Proccessing id 19\n",
      "Proccessing id 20\n",
      "Proccessing id 21\n",
      "Proccessing id 22\n",
      "Proccessing id 23\n",
      "Proccessing id 24\n",
      "Proccessing id 25\n",
      "Proccessing id 26\n",
      "Proccessing id 27\n",
      "Proccessing id 28\n",
      "Proccessing id 29\n",
      "Proccessing id 3\n",
      "Proccessing id 30\n",
      "Proccessing id 31\n",
      "Proccessing id 32\n",
      "Proccessing id 33\n",
      "Proccessing id 34\n",
      "Proccessing id 35\n",
      "Proccessing id 36\n",
      "Proccessing id 37\n",
      "Proccessing id 38\n",
      "Proccessing id 39\n",
      "Proccessing id 4\n",
      "Proccessing id 40\n",
      "Proccessing id 5\n",
      "Proccessing id 6\n",
      "Proccessing id 7\n",
      "Proccessing id 8\n",
      "Proccessing id 9\n"
     ]
    }
   ],
   "source": [
    "import shutil\n",
    "# For prediction, only gt\n",
    "pred_path = Path(\"C:\\\\Users\\\\Admin\\\\Desktop\\\\Gemsy\\\\Data\\\\processed\\\\.pred\")\n",
    "\n",
    "in_path = external_datasource\n",
    "features_path = pred_path / \"features\"\n",
    "masks_path = pred_path / \"masks\"\n",
    "for id in front_convert_ids:\n",
    "    print(f\"Proccessing id {id}\")\n",
    "    #g_train_data.load_model(id)\n",
    "    #g_train_data.load_pipeline_data()\n",
    "    #k = \"dbscantuned\"\n",
    "    #v = g_train_data.features[\"dbscantuned\"]\n",
    "    #g_train_data.gen_missing()\n",
    "    feature = \"front\"\n",
    "    feature_fname = loader_ext.features[feature]\n",
    "    feature_path = in_path / id / feature_fname\n",
    "    shutil.copyfile(feature_path, features_path / f\"e-{id}_gt.png\")\n",
    "    #print(feature_path, features_path / f\"e-{id}_{feature_fname}\")\n",
    "\n",
    "    mask_fname = loader_ext.features[\"gt\"]\n",
    "    mask_path = in_path / id / feature_fname\n",
    "    shutil.copyfile(mask_path, masks_path / f\"e-{id}.png\")\n",
    "    #print(mask_path, masks_path / f\"e-{id}.jpg\")"
   ]
  },
  {
   "cell_type": "code",
   "execution_count": 9,
   "id": "88fa7070",
   "metadata": {},
   "outputs": [
    {
     "name": "stdout",
     "output_type": "stream",
     "text": [
      "['e-10', 'e-11', 'e-12', 'e-13', 'e-14', 'e-15', 'e-16', 'e-17', 'e-18', 'e-19', 'e-20', 'e-21', 'e-22', 'e-23', 'e-24', 'e-25', 'e-26', 'e-27', 'e-28', 'e-29', 'e-3', 'e-30', 'e-31', 'e-32', 'e-33', 'e-34', 'e-35', 'e-36', 'e-37', 'e-38', 'e-39', 'e-4', 'e-40', 'e-5', 'e-6', 'e-7', 'e-8', 'e-9']\n"
     ]
    }
   ],
   "source": [
    "print([f\"e-{x}\" for x in front_convert_ids])"
   ]
  }
 ],
 "metadata": {
  "kernelspec": {
   "display_name": "unet",
   "language": "python",
   "name": "python3"
  },
  "language_info": {
   "codemirror_mode": {
    "name": "ipython",
    "version": 3
   },
   "file_extension": ".py",
   "mimetype": "text/x-python",
   "name": "python",
   "nbconvert_exporter": "python",
   "pygments_lexer": "ipython3",
   "version": "3.10.16"
  }
 },
 "nbformat": 4,
 "nbformat_minor": 5
}
